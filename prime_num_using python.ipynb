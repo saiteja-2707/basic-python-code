{
 "cells": [
  {
   "cell_type": "markdown",
   "id": "4919771a",
   "metadata": {},
   "source": [
    "# program for checking \"prime number or not\""
   ]
  },
  {
   "cell_type": "code",
   "execution_count": 3,
   "id": "bf5225c7",
   "metadata": {},
   "outputs": [
    {
     "name": "stdout",
     "output_type": "stream",
     "text": [
      "15 is not a prime number\n"
     ]
    }
   ],
   "source": [
    "a=15      \n",
    "if a>1:   #prime numbers are greater than '1'\n",
    "    for i in range(2,a):  #prime num's starts with '2'\n",
    "        if(a % i)==0:     #checks the value if it is divsible with range 'i' \n",
    "            print(a,\"is not a prime number\")   \n",
    "            break\n",
    "    else:\n",
    "        print(a,\"is a prime number\")\n",
    "        #'15'is divisible by '3'and'5'\n",
    "        #so its not a prime number"
   ]
  },
  {
   "cell_type": "code",
   "execution_count": null,
   "id": "2157a2c2",
   "metadata": {},
   "outputs": [],
   "source": []
  }
 ],
 "metadata": {
  "kernelspec": {
   "display_name": "Python 3",
   "language": "python",
   "name": "python3"
  },
  "language_info": {
   "codemirror_mode": {
    "name": "ipython",
    "version": 3
   },
   "file_extension": ".py",
   "mimetype": "text/x-python",
   "name": "python",
   "nbconvert_exporter": "python",
   "pygments_lexer": "ipython3",
   "version": "3.8.8"
  }
 },
 "nbformat": 4,
 "nbformat_minor": 5
}
